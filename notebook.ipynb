{
 "cells": [
  {
   "cell_type": "code",
   "execution_count": 11,
   "metadata": {},
   "outputs": [],
   "source": [
    "import requests\n",
    "import pandas as pd\n",
    "from bs4 import BeautifulSoup\n",
    "\n",
    "import yahoo_fin.stock_info as si"
   ]
  },
  {
   "attachments": {},
   "cell_type": "markdown",
   "metadata": {},
   "source": [
    "## Get the list of companies in the S&P 500 "
   ]
  },
  {
   "cell_type": "code",
   "execution_count": 7,
   "metadata": {},
   "outputs": [
    {
     "name": "stdout",
     "output_type": "stream",
     "text": [
      "['3M', 'A. O. Smith', 'Abbott', 'AbbVie', 'Accenture', 'Activision Blizzard', 'ADM', 'Adobe Inc.', 'ADP', 'Advance Auto Parts', 'AES Corporation', 'Aflac', 'Agilent Technologies', 'Air Products and Chemicals', 'Akamai', 'Alaska Air Group', 'Albemarle Corporation', 'Alexandria Real Estate Equities', 'Align Technology', 'Allegion', 'Alliant Energy', 'Allstate', 'Alphabet Inc. (Class A)', 'Alphabet Inc. (Class C)', 'Altria', 'Amazon', 'Amcor', 'AMD', 'Ameren', 'American Airlines Group', 'American Electric Power', 'American Express', 'American International Group', 'American Tower', 'American Water Works', 'Ameriprise Financial', 'AmerisourceBergen', 'Ametek', 'Amgen', 'Amphenol', 'Analog Devices', 'Ansys', 'Aon', 'APA Corporation', 'Apple Inc.', 'Applied Materials', 'Aptiv', 'Arch Capital Group', 'Arista Networks', 'Arthur J. Gallagher & Co.', 'Assurant', 'AT&T', 'Atmos Energy', 'Autodesk', 'AutoZone', 'AvalonBay Communities', 'Avery Dennison', 'Baker Hughes', 'Ball Corporation', 'Bank of America', 'Bath & Body Works, Inc.', 'Baxter International', 'Becton Dickinson', 'Berkley', 'Berkshire Hathaway', 'Best Buy', 'Bio-Rad', 'Bio-Techne', 'Biogen', 'BlackRock', 'BNY Mellon', 'Boeing', 'Booking Holdings', 'BorgWarner', 'Boston Properties', 'Boston Scientific', 'Bristol Myers Squibb', 'Broadcom Inc.', 'Broadridge Financial Solutions', 'Brown & Brown', 'Brown–Forman', 'Bunge Limited', 'C.H. Robinson', 'Cadence Design Systems', 'Caesars Entertainment', 'Camden Property Trust', 'Campbell Soup Company', 'Capital One', 'Cardinal Health', 'CarMax', 'Carnival', 'Carrier Global', 'Catalent', 'Caterpillar Inc.', 'Cboe Global Markets', 'CBRE Group', 'CDW', 'Celanese', 'Centene Corporation', 'CenterPoint Energy', 'Ceridian', 'CF Industries', 'Charles River Laboratories', 'Charles Schwab Corporation', 'Charter Communications', 'Chevron Corporation', 'Chipotle Mexican Grill', 'Chubb Limited', 'Church & Dwight', 'Cigna', 'Cincinnati Financial', 'Cintas', 'Cisco', 'Citigroup', 'Citizens Financial Group', 'Clorox', 'CME Group', 'CMS Energy', 'Coca-Cola Company (The)', 'Cognizant', 'Colgate-Palmolive', 'Comcast', 'Comerica', 'Conagra Brands', 'ConocoPhillips', 'Consolidated Edison', 'Constellation Brands', 'Constellation Energy', 'CooperCompanies', 'Copart', 'Corning Inc.', 'Corteva', 'CoStar Group', 'Costco', 'Coterra', 'Crown Castle', 'CSX', 'Cummins', 'CVS Health', 'D.R. Horton', 'Danaher Corporation', 'Darden Restaurants', 'DaVita Inc.', 'John Deere', 'Delta Air Lines', 'Dentsply Sirona', 'Devon Energy', 'Dexcom', 'Diamondback Energy', 'Digital Realty', 'Discover Financial', 'Dish Network', 'Disney', 'Dollar General', 'Dollar Tree', 'Dominion Energy', \"Domino's\", 'Dover Corporation', 'Dow Inc.', 'DTE Energy', 'Duke Energy', 'DuPont', 'DXC Technology', 'Eastman Chemical Company', 'Eaton Corporation', 'eBay', 'Ecolab', 'Edison International', 'Edwards Lifesciences', 'Electronic Arts', 'Elevance Health', 'Eli Lilly and Company', 'Emerson Electric', 'Enphase', 'Entergy', 'EOG Resources', 'EPAM Systems', 'EQT', 'Equifax', 'Equinix', 'Equity Residential', 'Essex Property Trust', 'Estée Lauder Companies (The)', 'Etsy', 'Everest Re', 'Evergy', 'Eversource', 'Exelon', 'Expedia Group', 'Expeditors International', 'Extra Space Storage', 'ExxonMobil', 'F5, Inc.', 'FactSet', 'Fair Isaac', 'Fastenal', 'Federal Realty', 'FedEx', 'Fifth Third Bank', 'First Republic Bank', 'First Solar', 'FirstEnergy', 'FIS', 'Fiserv', 'Fleetcor', 'FMC Corporation', 'Ford Motor Company', 'Fortinet', 'Fortive', 'Fox Corporation (Class A)', 'Fox Corporation (Class B)', 'Franklin Templeton', 'Freeport-McMoRan', 'Garmin', 'Gartner', 'GE HealthCare', 'Gen Digital', 'Generac', 'General Dynamics', 'General Electric', 'General Mills', 'General Motors', 'Genuine Parts Company', 'Gilead Sciences', 'Globe Life', 'Global Payments', 'Goldman Sachs', 'Halliburton', 'Hartford (The)', 'Hasbro', 'HCA Healthcare', 'Healthpeak', 'Henry Schein', \"Hershey's\", 'Hess Corporation', 'Hewlett Packard Enterprise', 'Hilton Worldwide', 'Hologic', 'Home Depot (The)', 'Honeywell', 'Hormel Foods', 'Host Hotels & Resorts', 'Howmet Aerospace', 'HP Inc.', 'Humana', 'Huntington Bancshares', 'Huntington Ingalls Industries', 'IBM', 'IDEX Corporation', 'Idexx Laboratories', 'Illinois Tool Works', 'Illumina', 'Incyte', 'Ingersoll Rand', 'Insulet', 'Intel', 'Intercontinental Exchange', 'International Flavors & Fragrances', 'International Paper', 'Interpublic Group of Companies (The)', 'Intuit', 'Intuitive Surgical', 'Invesco', 'Invitation Homes', 'IQVIA', 'Iron Mountain', 'J.B. Hunt', 'Jack Henry & Associates', 'Jacobs Solutions', 'Johnson & Johnson', 'Johnson Controls', 'JPMorgan Chase', 'Juniper Networks', \"Kellogg's\", 'Keurig Dr Pepper', 'KeyCorp', 'Keysight', 'Kimberly-Clark', 'Kimco Realty', 'Kinder Morgan', 'KLA Corporation', 'Kraft Heinz', 'Kroger', 'L3Harris', 'LabCorp', 'Lam Research', 'Lamb Weston', 'Las Vegas Sands', 'Leidos', 'Lennar', 'Lincoln Financial', 'Linde plc', 'Live Nation Entertainment', 'LKQ Corporation', 'Lockheed Martin', 'Loews Corporation', \"Lowe's\", 'LyondellBasell', 'M&T Bank', 'Marathon Oil', 'Marathon Petroleum', 'MarketAxess', 'Marriott International', 'Marsh McLennan', 'Martin Marietta Materials', 'Masco', 'Mastercard', 'Match Group', 'McCormick & Company', \"McDonald's\", 'McKesson', 'Medtronic', 'Merck & Co.', 'Meta Platforms', 'MetLife', 'Mettler Toledo', 'MGM Resorts', 'Microchip Technology', 'Micron Technology', 'Microsoft', 'Mid-America Apartment Communities', 'Moderna', 'Mohawk Industries', 'Molina Healthcare', 'Molson Coors Beverage Company', 'Mondelez International', 'Monolithic Power Systems', 'Monster Beverage', \"Moody's Corporation\", 'Morgan Stanley', 'Mosaic Company (The)', 'Motorola Solutions', 'MSCI', 'Nasdaq, Inc.', 'NetApp', 'Netflix', 'Newell Brands', 'Newmont', 'News Corp (Class A)', 'News Corp (Class B)', 'NextEra Energy', 'Nike, Inc.', 'NiSource', 'Nordson Corporation', 'Norfolk Southern Railway', 'Northern Trust', 'Northrop Grumman', 'Norwegian Cruise Line Holdings', 'NRG Energy', 'Nucor', 'Nvidia', 'NVR, Inc.', 'NXP Semiconductors', \"O'Reilly Auto Parts\", 'Occidental Petroleum', 'Old Dominion', 'Omnicom Group', 'ON Semiconductor', 'ONEOK', 'Oracle Corporation', 'Organon & Co.', 'Otis Worldwide', 'Paccar', 'Packaging Corporation of America', 'Paramount Global', 'Parker Hannifin', 'Paychex', 'Paycom', 'PayPal', 'Pentair', 'PepsiCo', 'PerkinElmer', 'Pfizer', 'PG&E Corporation', 'Philip Morris International', 'Phillips 66', 'Pinnacle West', 'Pioneer Natural Resources', 'PNC Financial Services', 'Pool Corporation', 'PPG Industries', 'PPL Corporation', 'Principal Financial Group', 'Procter & Gamble', 'Progressive Corporation', 'Prologis', 'Prudential Financial', 'Public Service Enterprise Group', 'PTC', 'Public Storage', 'PulteGroup', 'Qorvo', 'Quanta Services', 'Qualcomm', 'Quest Diagnostics', 'Ralph Lauren Corporation', 'Raymond James', 'Raytheon Technologies', 'Realty Income', 'Regency Centers', 'Regeneron', 'Regions Financial Corporation', 'Republic Services', 'ResMed', 'Robert Half', 'Rockwell Automation', 'Rollins, Inc.', 'Roper Technologies', 'Ross Stores', 'Royal Caribbean Group', 'S&P Global', 'Salesforce', 'SBA Communications', 'Schlumberger', 'Seagate Technology', 'Sealed Air', 'Sempra Energy', 'ServiceNow', 'Sherwin-Williams', 'Simon Property Group', 'Skyworks Solutions', 'J.M. Smucker Company (The)', 'Snap-on', 'SolarEdge', 'Southern Company', 'Southwest Airlines', 'Stanley Black & Decker', 'Starbucks', 'State Street Corporation', 'Steel Dynamics', 'Steris', 'Stryker Corporation', 'Synchrony Financial', 'Synopsys', 'Sysco', 'T-Mobile US', 'T. Rowe Price', 'Take-Two Interactive', 'Tapestry, Inc.', 'Targa Resources', 'Target Corporation', 'TE Connectivity', 'Teledyne Technologies', 'Teleflex', 'Teradyne', 'Tesla, Inc.', 'Texas Instruments', 'Textron', 'Thermo Fisher Scientific', 'TJX Companies', 'Tractor Supply', 'Trane Technologies', 'TransDigm Group', 'Travelers Companies (The)', 'Trimble Inc.', 'Truist', 'Tyler Technologies', 'Tyson Foods', 'U.S. Bank', 'UDR, Inc.', 'Ulta Beauty', 'Union Pacific Corporation', 'United Airlines Holdings', 'United Parcel Service', 'United Rentals', 'UnitedHealth Group', 'Universal Health Services', 'Valero Energy', 'Ventas', 'Verisign', 'Verisk', 'Verizon', 'Vertex Pharmaceuticals', 'VF Corporation', 'Viatris', 'Vici Properties', 'Visa Inc.', 'Vulcan Materials Company', 'Wabtec', 'Walgreens Boots Alliance', 'Walmart', 'Warner Bros. Discovery', 'Waste Management', 'Waters Corporation', 'WEC Energy Group', 'Wells Fargo', 'Welltower', 'West Pharmaceutical Services', 'Western Digital', 'WestRock', 'Weyerhaeuser', 'Whirlpool Corporation', 'Williams Companies', 'Willis Towers Watson', 'W. W. Grainger', 'Wynn Resorts', 'Xcel Energy', 'Xylem Inc.', 'Yum! Brands', 'Zebra Technologies', 'Zimmer Biomet', 'Zions Bancorporation', 'Zoetis']\n"
     ]
    }
   ],
   "source": [
    "# URL of the S&P 500 Wikipedia page\n",
    "url = 'https://en.wikipedia.org/wiki/List_of_S%26P_500_companies'\n",
    "\n",
    "# Define headers to mimic a browser request\n",
    "headers = {'User-Agent': 'Mozilla/5.0 (Windows NT 10.0; Win64; x64) AppleWebKit/537.36 (KHTML, like Gecko) Chrome/58.0.3029.110 Safari/537.3'}\n",
    "\n",
    "# Send a GET request to the URL and store the response\n",
    "response = requests.get(url, headers=headers)\n",
    "\n",
    "# Check if the request was successful\n",
    "if response.status_code == 200:\n",
    "    # Parse the HTML content of the response using BeautifulSoup\n",
    "    soup = BeautifulSoup(response.content, 'html.parser')\n",
    "\n",
    "    # Find the table that contains the S&P 500 list using Pandas\n",
    "    tables = pd.read_html(str(soup))\n",
    "\n",
    "    # Check if any tables were found\n",
    "    if len(tables) > 0:\n",
    "        # The first table in the list should be the S&P 500 table\n",
    "        sp500_table = tables[0]\n",
    "\n",
    "        # Extract the company names from the table\n",
    "        companies = sp500_table['Security'].tolist()\n",
    "\n",
    "        # Print the list of companies\n",
    "        print(companies)\n",
    "\n",
    "    else:\n",
    "        print(\"Error: Could not find table\")\n",
    "\n",
    "else:\n",
    "    print(f\"Error: Request failed with status code {response.status_code}\")"
   ]
  },
  {
   "cell_type": "code",
   "execution_count": 9,
   "metadata": {},
   "outputs": [
    {
     "data": {
      "text/html": [
       "<div>\n",
       "<style scoped>\n",
       "    .dataframe tbody tr th:only-of-type {\n",
       "        vertical-align: middle;\n",
       "    }\n",
       "\n",
       "    .dataframe tbody tr th {\n",
       "        vertical-align: top;\n",
       "    }\n",
       "\n",
       "    .dataframe thead th {\n",
       "        text-align: right;\n",
       "    }\n",
       "</style>\n",
       "<table border=\"1\" class=\"dataframe\">\n",
       "  <thead>\n",
       "    <tr style=\"text-align: right;\">\n",
       "      <th></th>\n",
       "      <th>Symbol</th>\n",
       "      <th>Security</th>\n",
       "      <th>GICS Sector</th>\n",
       "      <th>GICS Sub-Industry</th>\n",
       "      <th>Headquarters Location</th>\n",
       "      <th>Date added</th>\n",
       "      <th>CIK</th>\n",
       "      <th>Founded</th>\n",
       "    </tr>\n",
       "  </thead>\n",
       "  <tbody>\n",
       "    <tr>\n",
       "      <th>0</th>\n",
       "      <td>MMM</td>\n",
       "      <td>3M</td>\n",
       "      <td>Industrials</td>\n",
       "      <td>Industrial Conglomerates</td>\n",
       "      <td>Saint Paul, Minnesota</td>\n",
       "      <td>1957-03-04</td>\n",
       "      <td>66740</td>\n",
       "      <td>1902</td>\n",
       "    </tr>\n",
       "    <tr>\n",
       "      <th>1</th>\n",
       "      <td>AOS</td>\n",
       "      <td>A. O. Smith</td>\n",
       "      <td>Industrials</td>\n",
       "      <td>Building Products</td>\n",
       "      <td>Milwaukee, Wisconsin</td>\n",
       "      <td>2017-07-26</td>\n",
       "      <td>91142</td>\n",
       "      <td>1916</td>\n",
       "    </tr>\n",
       "    <tr>\n",
       "      <th>2</th>\n",
       "      <td>ABT</td>\n",
       "      <td>Abbott</td>\n",
       "      <td>Health Care</td>\n",
       "      <td>Health Care Equipment</td>\n",
       "      <td>North Chicago, Illinois</td>\n",
       "      <td>1957-03-04</td>\n",
       "      <td>1800</td>\n",
       "      <td>1888</td>\n",
       "    </tr>\n",
       "    <tr>\n",
       "      <th>3</th>\n",
       "      <td>ABBV</td>\n",
       "      <td>AbbVie</td>\n",
       "      <td>Health Care</td>\n",
       "      <td>Pharmaceuticals</td>\n",
       "      <td>North Chicago, Illinois</td>\n",
       "      <td>2012-12-31</td>\n",
       "      <td>1551152</td>\n",
       "      <td>2013 (1888)</td>\n",
       "    </tr>\n",
       "    <tr>\n",
       "      <th>4</th>\n",
       "      <td>ACN</td>\n",
       "      <td>Accenture</td>\n",
       "      <td>Information Technology</td>\n",
       "      <td>IT Consulting &amp; Other Services</td>\n",
       "      <td>Dublin, Ireland</td>\n",
       "      <td>2011-07-06</td>\n",
       "      <td>1467373</td>\n",
       "      <td>1989</td>\n",
       "    </tr>\n",
       "  </tbody>\n",
       "</table>\n",
       "</div>"
      ],
      "text/plain": [
       "  Symbol     Security             GICS Sector               GICS Sub-Industry  \\\n",
       "0    MMM           3M             Industrials        Industrial Conglomerates   \n",
       "1    AOS  A. O. Smith             Industrials               Building Products   \n",
       "2    ABT       Abbott             Health Care           Health Care Equipment   \n",
       "3   ABBV       AbbVie             Health Care                 Pharmaceuticals   \n",
       "4    ACN    Accenture  Information Technology  IT Consulting & Other Services   \n",
       "\n",
       "     Headquarters Location  Date added      CIK      Founded  \n",
       "0    Saint Paul, Minnesota  1957-03-04    66740         1902  \n",
       "1     Milwaukee, Wisconsin  2017-07-26    91142         1916  \n",
       "2  North Chicago, Illinois  1957-03-04     1800         1888  \n",
       "3  North Chicago, Illinois  2012-12-31  1551152  2013 (1888)  \n",
       "4          Dublin, Ireland  2011-07-06  1467373         1989  "
      ]
     },
     "execution_count": 9,
     "metadata": {},
     "output_type": "execute_result"
    }
   ],
   "source": [
    "sp500_table.head()"
   ]
  },
  {
   "attachments": {},
   "cell_type": "markdown",
   "metadata": {},
   "source": [
    "## Get the Top Institutional Holders for any stock"
   ]
  },
  {
   "cell_type": "code",
   "execution_count": 17,
   "metadata": {},
   "outputs": [
    {
     "name": "stdout",
     "output_type": "stream",
     "text": [
      "[{'Holder': 'Vanguard Group, Inc. (The)', 'Shares': 1278250538, 'Date Reported': 'Dec 30, 2022', '% Out': '8.08%', 'Value': 216893541925}, {'Holder': 'Blackrock Inc.', 'Shares': 1029208322, 'Date Reported': 'Dec 30, 2022', '% Out': '6.50%', 'Value': 174636060538}, {'Holder': 'Berkshire Hathaway, Inc', 'Shares': 895136175, 'Date Reported': 'Dec 30, 2022', '% Out': '5.66%', 'Value': 151886699617}, {'Holder': 'State Street Corporation', 'Shares': 586857405, 'Date Reported': 'Dec 30, 2022', '% Out': '3.71%', 'Value': 99577960182}, {'Holder': 'FMR, LLC', 'Shares': 321162411, 'Date Reported': 'Dec 30, 2022', '% Out': '2.03%', 'Value': 54494835546}, {'Holder': 'Geode Capital Management, LLC', 'Shares': 282749817, 'Date Reported': 'Dec 30, 2022', '% Out': '1.79%', 'Value': 47976986877}, {'Holder': 'Price (T.Rowe) Associates Inc', 'Shares': 226281368, 'Date Reported': 'Dec 30, 2022', '% Out': '1.43%', 'Value': 38395420864}, {'Holder': 'Morgan Stanley', 'Shares': 208655323, 'Date Reported': 'Dec 30, 2022', '% Out': '1.32%', 'Value': 35404633678}, {'Holder': 'Northern Trust Corporation', 'Shares': 174276229, 'Date Reported': 'Dec 30, 2022', '% Out': '1.10%', 'Value': 29571189260}, {'Holder': 'Norges Bank Investment Management', 'Shares': 167374278, 'Date Reported': 'Dec 30, 2022', '% Out': '1.06%', 'Value': 28400066265}]\n",
      "{'Holder': 'Vanguard Group, Inc. (The)', 'Shares': 1278250538, 'Date Reported': 'Dec 30, 2022', '% Out': '8.08%', 'Value': 216893541925}\n",
      "{'Holder': 'Blackrock Inc.', 'Shares': 1029208322, 'Date Reported': 'Dec 30, 2022', '% Out': '6.50%', 'Value': 174636060538}\n",
      "{'Holder': 'Berkshire Hathaway, Inc', 'Shares': 895136175, 'Date Reported': 'Dec 30, 2022', '% Out': '5.66%', 'Value': 151886699617}\n",
      "{'Holder': 'State Street Corporation', 'Shares': 586857405, 'Date Reported': 'Dec 30, 2022', '% Out': '3.71%', 'Value': 99577960182}\n",
      "{'Holder': 'FMR, LLC', 'Shares': 321162411, 'Date Reported': 'Dec 30, 2022', '% Out': '2.03%', 'Value': 54494835546}\n",
      "{'Holder': 'Geode Capital Management, LLC', 'Shares': 282749817, 'Date Reported': 'Dec 30, 2022', '% Out': '1.79%', 'Value': 47976986877}\n",
      "{'Holder': 'Price (T.Rowe) Associates Inc', 'Shares': 226281368, 'Date Reported': 'Dec 30, 2022', '% Out': '1.43%', 'Value': 38395420864}\n",
      "{'Holder': 'Morgan Stanley', 'Shares': 208655323, 'Date Reported': 'Dec 30, 2022', '% Out': '1.32%', 'Value': 35404633678}\n",
      "{'Holder': 'Northern Trust Corporation', 'Shares': 174276229, 'Date Reported': 'Dec 30, 2022', '% Out': '1.10%', 'Value': 29571189260}\n",
      "{'Holder': 'Norges Bank Investment Management', 'Shares': 167374278, 'Date Reported': 'Dec 30, 2022', '% Out': '1.06%', 'Value': 28400066265}\n"
     ]
    }
   ],
   "source": [
    "def get_shareholders_distribution(stock_symbol):\n",
    "    url = f\"https://finance.yahoo.com/quote/{stock_symbol}/holders\"\n",
    "    headers = {\n",
    "        'User-Agent': 'Mozilla/5.0 (Windows NT 10.0; Win64; x64) AppleWebKit/537.36 (KHTML, like Gecko) Chrome/58.0.3029.110 Safari/537.3'}\n",
    "    response = requests.get(url, headers=headers)\n",
    "\n",
    "    if response.status_code == 200:\n",
    "        # Parse the tables using Pandas\n",
    "        tables = pd.read_html(response.text)\n",
    "\n",
    "        # Get the institutional holders table\n",
    "        institutional_holders = tables[1]\n",
    "\n",
    "        # Extract the top 10 shareholders\n",
    "        top_shareholders = institutional_holders.head(10)[['Holder', 'Shares',\t'Date Reported',\t'% Out',\t'Value']]\n",
    "\n",
    "        # Convert the DataFrame to a list of dictionaries\n",
    "        shareholders = top_shareholders.to_dict('records')\n",
    "\n",
    "        print(shareholders)\n",
    "        return shareholders\n",
    "\n",
    "    else:\n",
    "        print(f\"Error: Request failed with status code {response.status_code}\")\n",
    "        return None\n",
    "\n",
    "# Example usage\n",
    "stock_symbol = \"AAPL\"  # Replace with the stock symbol you want to check\n",
    "top_shareholders = get_shareholders_distribution(stock_symbol)\n",
    "\n",
    "if top_shareholders:\n",
    "    for shareholder in top_shareholders:\n",
    "        print(shareholder)"
   ]
  },
  {
   "cell_type": "code",
   "execution_count": 14,
   "metadata": {},
   "outputs": [
    {
     "data": {
      "text/plain": [
       "[{'name': 'Vanguard Group, Inc. (The)', 'shares': '8.08%%'},\n",
       " {'name': 'Blackrock Inc.', 'shares': '6.50%%'},\n",
       " {'name': 'Berkshire Hathaway, Inc', 'shares': '5.66%%'},\n",
       " {'name': 'State Street Corporation', 'shares': '3.71%%'},\n",
       " {'name': 'FMR, LLC', 'shares': '2.03%%'},\n",
       " {'name': 'Geode Capital Management, LLC', 'shares': '1.79%%'},\n",
       " {'name': 'Price (T.Rowe) Associates Inc', 'shares': '1.43%%'},\n",
       " {'name': 'Morgan Stanley', 'shares': '1.32%%'},\n",
       " {'name': 'Northern Trust Corporation', 'shares': '1.10%%'},\n",
       " {'name': 'Norges Bank Investment Management', 'shares': '1.06%%'}]"
      ]
     },
     "execution_count": 14,
     "metadata": {},
     "output_type": "execute_result"
    }
   ],
   "source": [
    "top_shareholders"
   ]
  },
  {
   "cell_type": "code",
   "execution_count": null,
   "metadata": {},
   "outputs": [],
   "source": []
  }
 ],
 "metadata": {
  "kernelspec": {
   "display_name": "lin",
   "language": "python",
   "name": "python3"
  },
  "language_info": {
   "codemirror_mode": {
    "name": "ipython",
    "version": 3
   },
   "file_extension": ".py",
   "mimetype": "text/x-python",
   "name": "python",
   "nbconvert_exporter": "python",
   "pygments_lexer": "ipython3",
   "version": "3.10.10"
  },
  "orig_nbformat": 4
 },
 "nbformat": 4,
 "nbformat_minor": 2
}
